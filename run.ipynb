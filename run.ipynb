{
 "cells": [
  {
   "cell_type": "markdown",
   "id": "4402fe8b",
   "metadata": {},
   "source": [
    "# I choose the random forest algorithm because it have the best accuracy"
   ]
  },
  {
   "cell_type": "code",
   "execution_count": 17,
   "id": "15904296",
   "metadata": {},
   "outputs": [],
   "source": [
    "import joblib\n",
    "import nltk\n",
    "from nltk.corpus import stopwords\n",
    "from nltk.stem import SnowballStemmer\n",
    "import re\n",
    "\n",
    "# Load the model\n",
    "model_rf = joblib.load('model_rf.pkl')\n",
    "\n",
    "# Load the vectorizer\n",
    "vectorizer = joblib.load('vectorizer.pkl')\n",
    "\n",
    "# Preprocessing function\n",
    "def clean_text(text):\n",
    "    # lowercasing all text data\n",
    "    text = text.lower()\n",
    "    \n",
    "    # Remove special characters and numbers using regular expressions\n",
    "    text = re.sub(r'[^a-zA-Z\\s]', '', text)\n",
    "    text = re.sub(r'\\d+', '', text)\n",
    "    \n",
    "    # Remove stopwords\n",
    "    stop_words = set(stopwords.words('english'))\n",
    "    tokens = nltk.word_tokenize(text)\n",
    "    tokens = [token for token in tokens if token not in stop_words]\n",
    "    \n",
    "    # Stemming using SnowballStemmer\n",
    "    stemmer = SnowballStemmer('english')\n",
    "    stemmed_tokens = [stemmer.stem(token) for token in tokens]\n",
    "    \n",
    "    # Join the stemmed tokens back into a single string\n",
    "    processed_text = ' '.join(stemmed_tokens)\n",
    "    \n",
    "    return processed_text\n",
    "\n"
   ]
  },
  {
   "cell_type": "markdown",
   "id": "8dbe4011",
   "metadata": {},
   "source": [
    "# You parse the text you want to classification in variable input_text"
   ]
  },
  {
   "cell_type": "code",
   "execution_count": 18,
   "id": "23be2dfe",
   "metadata": {},
   "outputs": [],
   "source": [
    "# You parse the text you want to classification in variable input_text\n",
    "input_text=\"Parse your news right here!!!!!!!!\""
   ]
  },
  {
   "cell_type": "code",
   "execution_count": 19,
   "id": "f3106279",
   "metadata": {},
   "outputs": [
    {
     "name": "stdout",
     "output_type": "stream",
     "text": [
      "['sport']\n"
     ]
    }
   ],
   "source": [
    "\n",
    "# Apply preprocessing to the input text\n",
    "processed_text = clean_text(input_text)\n",
    "\n",
    "# Transform the preprocessed text using the loaded vectorizer\n",
    "processed_text_transformed = vectorizer.transform([processed_text])\n",
    "\n",
    "# Make predictions using the loaded model\n",
    "predicted_category = model_rf.predict(processed_text_transformed)\n",
    "\n",
    "# Print the predicted category\n",
    "print(predicted_category)\n"
   ]
  },
  {
   "cell_type": "markdown",
   "id": "99027a2e",
   "metadata": {},
   "source": [
    "# This is the result"
   ]
  }
 ],
 "metadata": {
  "kernelspec": {
   "display_name": "Python 3 (ipykernel)",
   "language": "python",
   "name": "python3"
  },
  "language_info": {
   "codemirror_mode": {
    "name": "ipython",
    "version": 3
   },
   "file_extension": ".py",
   "mimetype": "text/x-python",
   "name": "python",
   "nbconvert_exporter": "python",
   "pygments_lexer": "ipython3",
   "version": "3.9.12"
  }
 },
 "nbformat": 4,
 "nbformat_minor": 5
}
