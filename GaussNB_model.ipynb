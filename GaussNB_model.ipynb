{
 "cells": [
  {
   "cell_type": "code",
   "execution_count": 14,
   "id": "36e5b79c",
   "metadata": {},
   "outputs": [
    {
     "name": "stdout",
     "output_type": "stream",
     "text": [
      "Validation Classification Report:\n",
      "               precision    recall  f1-score   support\n",
      "\n",
      "     business       1.00      0.91      0.95        54\n",
      "entertainment       1.00      0.96      0.98        45\n",
      "     politics       0.92      1.00      0.96        44\n",
      "        sport       0.98      1.00      0.99        60\n",
      "         tech       0.95      1.00      0.97        36\n",
      "\n",
      "     accuracy                           0.97       239\n",
      "    macro avg       0.97      0.97      0.97       239\n",
      " weighted avg       0.97      0.97      0.97       239\n",
      "\n",
      "Testing Classification Report:\n",
      "               precision    recall  f1-score   support\n",
      "\n",
      "     business       0.96      0.97      0.97        75\n",
      "entertainment       1.00      0.98      0.99        46\n",
      "     politics       0.95      0.98      0.96        56\n",
      "        sport       1.00      1.00      1.00        63\n",
      "         tech       0.96      0.93      0.95        58\n",
      "\n",
      "     accuracy                           0.97       298\n",
      "    macro avg       0.97      0.97      0.97       298\n",
      " weighted avg       0.97      0.97      0.97       298\n",
      "\n",
      "Training Time: 0.34 seconds\n"
     ]
    }
   ],
   "source": [
    "import pandas as pd\n",
    "from sklearn.feature_extraction.text import TfidfVectorizer\n",
    "from sklearn.naive_bayes import GaussianNB\n",
    "from sklearn.metrics import accuracy_score, precision_score, recall_score, f1_score, confusion_matrix\n",
    "import matplotlib.pyplot as plt\n",
    "import seaborn as sns\n",
    "from sklearn.metrics import classification_report\n",
    "import numpy as np\n",
    "from sklearn.model_selection import learning_curve\n",
    "from sklearn.model_selection import train_test_split\n",
    "import time\n",
    "\n",
    "# Load the data into a pandas DataFrame (assuming you have a CSV file)\n",
    "data = pd.read_csv('preprocessed_data_bbc.csv')\n",
    "\n",
    "# Extract the cleaned text and corresponding labels\n",
    "X = data['Text'].values\n",
    "y = data['Category'].values\n",
    "\n",
    "# Split the data into training, validation, and testing sets\n",
    "X_trainval, X_test, y_trainval, y_test = train_test_split(X, y, test_size=0.2, random_state=42)\n",
    "X_train, X_val, y_train, y_val = train_test_split(X_trainval, y_trainval, test_size=0.2, random_state=42)\n",
    "\n",
    "# Convert the text data into numerical features using TF-IDF\n",
    "vectorizer = TfidfVectorizer(min_df=0.002, max_df=0.95, norm='l2', ngram_range=(1, 2), stop_words='english', sublinear_tf=True)\n",
    "X_train = vectorizer.fit_transform(X_train)\n",
    "X_val = vectorizer.transform(X_val)\n",
    "X_test = vectorizer.transform(X_test)\n",
    "\n",
    "# Build Gaussian Naive Bayes model\n",
    "classifier_gnb = GaussianNB(var_smoothing=1e-9)\n",
    "\n",
    "# Start the timer\n",
    "start_time = time.time()\n",
    "\n",
    "# Train the model\n",
    "classifier_gnb.fit(X_train.toarray(), y_train)\n",
    "\n",
    "# Stop the timer and calculate the training time\n",
    "training_time = time.time() - start_time\n",
    "\n",
    "# Predict the labels for the validation data\n",
    "y_val_pred = classifier_gnb.predict(X_val.toarray())\n",
    "\n",
    "# Generate the classification report for validation\n",
    "report_val = classification_report(y_val, y_val_pred)\n",
    "\n",
    "# Print the classification report for validation\n",
    "print(\"Validation Classification Report:\")\n",
    "print(report_val)\n",
    "\n",
    "# Predict the labels for the testing data\n",
    "y_test_pred = classifier_gnb.predict(X_test.toarray())\n",
    "\n",
    "# Generate the classification report for testing\n",
    "report_test = classification_report(y_test, y_test_pred)\n",
    "\n",
    "# Print the classification report for testing\n",
    "print(\"Testing Classification Report:\")\n",
    "print(report_test)\n",
    "\n",
    "# Print the training time\n",
    "print(\"Training Time: {:.2f} seconds\".format(training_time))\n"
   ]
  },
  {
   "cell_type": "code",
   "execution_count": 16,
   "id": "3d28718d",
   "metadata": {},
   "outputs": [
    {
     "data": {
      "image/png": "[encoded data removed]",
      "text/plain": [
       "<Figure size 720x576 with 1 Axes>"
      ]
     },
     "metadata": {
      "needs_background": "light"
     },
     "output_type": "display_data"
    }
   ],
   "source": [
    "# Generate the confusion matrix for testing\n",
    "cm = confusion_matrix(y_test, y_test_pred)\n",
    "\n",
    "# Get the unique category labels\n",
    "categories = np.unique(y)\n",
    "\n",
    "# Plot the confusion matrix for testing\n",
    "plt.figure(figsize=(10, 8))\n",
    "sns.heatmap(cm, annot=True, fmt=\"d\", cmap=\"Blues\", cbar=False, xticklabels=categories, yticklabels=categories)\n",
    "plt.title(\"Testing Confusion Matrix\")\n",
    "plt.xlabel(\"Predicted Labels\")\n",
    "plt.ylabel(\"True Labels\")\n",
    "plt.show()"
   ]
  },
  {
   "cell_type": "code",
   "execution_count": 17,
   "id": "b2f75708",
   "metadata": {},
   "outputs": [
    {
     "name": "stdout",
     "output_type": "stream",
     "text": [
      "Learning curve for Gaussian Naive Bayes model\n",
      "\n",
      "[learning_curve] Training set sizes: [ 71 232 392 553 714]\n"
     ]
    },
    {
     "name": "stderr",
     "output_type": "stream",
     "text": [
      "[Parallel(n_jobs=1)]: Using backend SequentialBackend with 1 concurrent workers.\n"
     ]
    },
    {
     "name": "stdout",
     "output_type": "stream",
     "text": [
      "[CV] END ..................., score=(train=1.000, test=0.782) total time=   0.2s\n"
     ]
    },
    {
     "name": "stderr",
     "output_type": "stream",
     "text": [
      "[Parallel(n_jobs=1)]: Done   1 out of   1 | elapsed:    0.3s remaining:    0.0s\n"
     ]
    },
    {
     "name": "stdout",
     "output_type": "stream",
     "text": [
      "[CV] END ..................., score=(train=1.000, test=0.921) total time=   0.3s\n"
     ]
    },
    {
     "name": "stderr",
     "output_type": "stream",
     "text": [
      "[Parallel(n_jobs=1)]: Done   2 out of   2 | elapsed:    0.9s remaining:    0.0s\n"
     ]
    },
    {
     "name": "stdout",
     "output_type": "stream",
     "text": [
      "[CV] END ..................., score=(train=1.000, test=0.929) total time=   0.3s\n",
      "[CV] END ..................., score=(train=1.000, test=0.933) total time=   0.4s\n",
      "[CV] END ..................., score=(train=1.000, test=0.958) total time=   0.5s\n",
      "[CV] END ..................., score=(train=1.000, test=0.853) total time=   0.2s\n",
      "[CV] END ..................., score=(train=1.000, test=0.924) total time=   0.3s\n",
      "[CV] END ..................., score=(train=1.000, test=0.933) total time=   0.4s\n",
      "[CV] END ..................., score=(train=1.000, test=0.950) total time=   0.3s\n",
      "[CV] END ..................., score=(train=1.000, test=0.954) total time=   0.5s\n",
      "[CV] END ..................., score=(train=1.000, test=0.857) total time=   0.3s\n",
      "[CV] END ..................., score=(train=1.000, test=0.920) total time=   0.2s\n",
      "[CV] END ..................., score=(train=1.000, test=0.937) total time=   0.3s\n",
      "[CV] END ..................., score=(train=1.000, test=0.954) total time=   0.4s\n",
      "[CV] END ..................., score=(train=1.000, test=0.962) total time=   0.4s\n",
      "[CV] END ..................., score=(train=1.000, test=0.874) total time=   0.2s\n",
      "[CV] END ..................., score=(train=1.000, test=0.941) total time=   0.2s\n",
      "[CV] END ..................., score=(train=1.000, test=0.962) total time=   0.3s\n",
      "[CV] END ..................., score=(train=1.000, test=0.971) total time=   0.3s\n",
      "[CV] END ..................., score=(train=1.000, test=0.966) total time=   0.5s\n"
     ]
    },
    {
     "name": "stderr",
     "output_type": "stream",
     "text": [
      "[Parallel(n_jobs=1)]: Done  20 out of  20 | elapsed:   16.7s finished\n"
     ]
    }
   ],
   "source": [
    "# Learning curve for Gaussian Naive Bayes model with varying training set sizes\n",
    "print('Learning curve for Gaussian Naive Bayes model\\n')\n",
    "\n",
    "train_sizes, train_scores, val_scores = learning_curve(classifier_gnb, X_train.toarray(), y_train, cv=4, train_sizes=np.linspace(0.1, 1.0, 5), verbose=3)\n",
    "\n",
    "def plot_learning_curve(train_sizes, train_scores, val_scores, fig_title):  \n",
    "    train_mean = np.mean(train_scores, axis=1)\n",
    "    train_std = np.std(train_scores, axis=1)\n",
    "    val_mean = np.mean(val_scores, axis=1)\n",
    "    val_std = np.std(val_scores, axis=1)\n",
    "\n",
    "    plt.plot(train_sizes, train_mean, '--', color=\"blue\",  label=\"Training score\")\n",
    "    plt.plot(train_sizes, val_mean, color=\"red\", label=\"Validation score\")\n",
    "\n",
    "    plt.fill_between(train_sizes, train_mean - train_std, train_mean + train_std, color=\"#DDDDDD\")\n",
    "    plt.fill_between(train_sizes, val_mean - val_std, val_mean + val_std, color=\"#DDDDDD\")\n",
    "\n",
    "    plt.title(fig_title)\n",
    "    plt.xlabel(\"Training Set Size\")\n",
    "    plt.ylabel(\"Accuracy Score\")\n",
    "    plt.legend(loc=\"best\")\n",
    "    plt.tight_layout()\n",
    "    plt.show()"
   ]
  },
  {
   "cell_type": "code",
   "execution_count": 18,
   "id": "9f031309",
   "metadata": {},
   "outputs": [
    {
     "data": {
      "image/png": "[encoded data removed]",
      "text/plain": [
       "<Figure size 432x288 with 1 Axes>"
      ]
     },
     "metadata": {
      "needs_background": "light"
     },
     "output_type": "display_data"
    }
   ],
   "source": [
    "\n",
    "# Plot learning curves\n",
    "plot_learning_curve(train_sizes, train_scores, val_scores, 'Learning curve for Gaussian Naive Bayes model')"
   ]
  }
 ],
 "metadata": {
  "kernelspec": {
   "display_name": "Python 3 (ipykernel)",
   "language": "python",
   "name": "python3"
  },
  "language_info": {
   "codemirror_mode": {
    "name": "ipython",
    "version": 3
   },
   "file_extension": ".py",
   "mimetype": "text/x-python",
   "name": "python",
   "nbconvert_exporter": "python",
   "pygments_lexer": "ipython3",
   "version": "3.9.12"
  }
 },
 "nbformat": 4,
 "nbformat_minor": 5
}
